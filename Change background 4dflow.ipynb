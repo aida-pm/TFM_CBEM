{
 "cells": [
  {
   "cell_type": "code",
   "execution_count": 1,
   "metadata": {},
   "outputs": [],
   "source": [
    "import glob \n",
    "import re\n",
    "from medpy.io import load # libreria python medimages\n",
    "import medpy.io.save as med\n",
    "\n",
    "path = 'E:\\\\LV_seg\\\\'\n",
    "ims = glob.glob(path+\"\\\\*.nii.gz\")\n",
    "\n",
    "for ii in range(0,len(ims)):\n",
    "    case =  re.sub(\"[^0-9]\", \"\", ims[ii][-19:-9])\n",
    "    image_data, image_header = load(path+'case'+str(case)+'_1.nii.gz')\n",
    "    s = image_data\n",
    "    s[s==2] = 0\n",
    "    med(s, 'E:\\\\new4d_LV\\\\final_seg\\\\case'+str(case)+'_1.nii.gz',image_header)"
   ]
  },
  {
   "cell_type": "code",
   "execution_count": null,
   "metadata": {},
   "outputs": [],
   "source": []
  }
 ],
 "metadata": {
  "kernelspec": {
   "display_name": "Python 3",
   "language": "python",
   "name": "python3"
  },
  "language_info": {
   "codemirror_mode": {
    "name": "ipython",
    "version": 3
   },
   "file_extension": ".py",
   "mimetype": "text/x-python",
   "name": "python",
   "nbconvert_exporter": "python",
   "pygments_lexer": "ipython3",
   "version": "3.7.6"
  }
 },
 "nbformat": 4,
 "nbformat_minor": 4
}
