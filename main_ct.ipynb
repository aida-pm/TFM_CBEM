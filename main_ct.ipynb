{
 "cells": [
  {
   "cell_type": "code",
   "execution_count": null,
   "metadata": {},
   "outputs": [],
   "source": [
    "export nnUNet_raw_data_base=\"/homedtic/xmorales/Seg/nnUNet_raw_data_base\"\n",
    "export nnUNet_preprocessed=\"/homedtic/xmorales/Seg/nnUNet_preprocessed\"\n",
    "export RESULTS_FOLDER=\"/homedtic/xmorales/Seg/RESULTS_FOLDER\"\n",
    "\n",
    "nnUNet_plan_and_preprocess -t 001 --verify_dataset_integrity\n",
    "\n"
   ]
  }
 ],
 "metadata": {
  "kernelspec": {
   "display_name": "Python 3",
   "language": "python",
   "name": "python3"
  },
  "language_info": {
   "codemirror_mode": {
    "name": "ipython",
    "version": 3
   },
   "file_extension": ".py",
   "mimetype": "text/x-python",
   "name": "python",
   "nbconvert_exporter": "python",
   "pygments_lexer": "ipython3",
   "version": "3.7.6"
  }
 },
 "nbformat": 4,
 "nbformat_minor": 4
}
