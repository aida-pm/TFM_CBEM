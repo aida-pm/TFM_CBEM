{
 "cells": [
  {
   "cell_type": "code",
   "execution_count": 1,
   "metadata": {},
   "outputs": [],
   "source": [
    "import pandas as pd\n",
    "import numpy as np\n",
    "import matplotlib.pyplot as plt\n",
    "import matplotlib.cm as cm\n",
    "import math\n",
    "from medpy.io import load # libreria python medimages\n",
    "import medpy.io.save as med\n",
    "from sklearn import preprocessing\n",
    "from PIL import Image # libreria python images\n",
    "from scipy import ndimage, misc\n",
    "from skimage import data, color\n",
    "from skimage.transform import rescale, resize, downscale_local_mean"
   ]
  },
  {
   "cell_type": "code",
   "execution_count": 2,
   "metadata": {
    "scrolled": true
   },
   "outputs": [],
   "source": [
    "import glob \n",
    "import re\n",
    "\n",
    "#path = 'E:\\\\Seg4\\\\Predictions\\\\'\n",
    "path = 'E:\\\\Seg3\\\\Predictions\\\\'\n",
    "ims = glob.glob(path+\"\\\\*.nii.gz\")\n",
    "\n",
    "for ii in range(0,len(ims)):\n",
    "    case =  re.sub(\"[^0-9]\", \"\", ims[ii][-12:-7])\n",
    "    image_data, image_header = load(path+str(case)+'.nii.gz')\n",
    "    image_datat = image_data.transpose()\n",
    "    image = [0]*image_data.shape[2]\n",
    "    for j in range(image_data.shape[2]):\n",
    "        image[j] = resize(image_datat[j], (512,512), order = 0,preserve_range=True)\n",
    "    im = np.array(image)\n",
    "    imt = im.transpose()\n",
    "    #med(imt, 'E:\\\\Seg4_test\\\\case'+str(case)+'.nii.gz',image_header)\n",
    "    med(imt, 'E:\\\\Seg3_test\\\\case'+str(case)+'.nii.gz',image_header)"
   ]
  },
  {
   "cell_type": "code",
   "execution_count": 40,
   "metadata": {},
   "outputs": [],
   "source": [
    "# read CTs\n",
    "image_data, image_header = load('E:/Seg4_test/case4101.nii.gz')"
   ]
  },
  {
   "cell_type": "code",
   "execution_count": 41,
   "metadata": {},
   "outputs": [
    {
     "name": "stdout",
     "output_type": "stream",
     "text": [
      "(0.349609375, 0.349609375, 0.5)\n",
      "(512, 512, 305)\n"
     ]
    }
   ],
   "source": [
    "print(image_header.get_voxel_spacing())\n",
    "print(image_data.shape)"
   ]
  },
  {
   "cell_type": "code",
   "execution_count": 11,
   "metadata": {},
   "outputs": [],
   "source": [
    "import glob\n",
    "import re\n",
    "\n",
    "path = 'E:\\\\\\Visualization - CTO1\\\\'\n",
    "ims = glob.glob(path+\"\\\\*.nrrd\")\n",
    "\n",
    "for ii in range(0,len(ims)):\n",
    "    case =  re.sub(\"[^0-9]\", \"\", ims[ii][-13:-7])\n",
    "    image_data, image_header = load(path+'\\prediction_'+str(case)+'_1.nrrd')\n",
    "    image_datat = image_data.transpose()\n",
    "    image = [0]*image_data.shape[2]\n",
    "    for j in range(image_data.shape[2]):\n",
    "        image[j] = resize(image_datat[j], (512,512), order = 0,preserve_range=True)\n",
    "    im = np.array(image)\n",
    "    imt = im.transpose()\n",
    "    med(imt, 'E:\\\\\\Visualization - CTO1\\\\upsampled\\\\prediction_'+str(case)+'.nrrd',image_header)"
   ]
  },
  {
   "cell_type": "code",
   "execution_count": null,
   "metadata": {},
   "outputs": [],
   "source": []
  }
 ],
 "metadata": {
  "kernelspec": {
   "display_name": "Python 3",
   "language": "python",
   "name": "python3"
  },
  "language_info": {
   "codemirror_mode": {
    "name": "ipython",
    "version": 3
   },
   "file_extension": ".py",
   "mimetype": "text/x-python",
   "name": "python",
   "nbconvert_exporter": "python",
   "pygments_lexer": "ipython3",
   "version": "3.7.6"
  }
 },
 "nbformat": 4,
 "nbformat_minor": 4
}
